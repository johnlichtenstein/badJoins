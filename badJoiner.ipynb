{
 "cells": [
  {
   "cell_type": "markdown",
   "id": "b915b8db-f378-4ddb-bdcf-4593b284a789",
   "metadata": {},
   "source": [
    "## Finding Bad Joins "
   ]
  },
  {
   "cell_type": "code",
   "execution_count": 3,
   "id": "ac04606f-c395-44ca-bf60-369b6e191423",
   "metadata": {},
   "outputs": [],
   "source": [
    "import pandas as pd\n",
    "import sqlite3\n",
    "from pygments import highlight\n",
    "from pygments.lexers import SqlLexer\n",
    "from pygments.formatters import HtmlFormatter\n",
    "from IPython.core.display import HTML"
   ]
  },
  {
   "cell_type": "code",
   "execution_count": 5,
   "id": "8010954e-2120-410e-8e47-32dabe646ccd",
   "metadata": {},
   "outputs": [],
   "source": [
    "conn = sqlite3.connect(\"badJoin.db\")"
   ]
  },
  {
   "cell_type": "code",
   "execution_count": 7,
   "id": "e790ec84-3996-4324-885b-522fc8cbca4c",
   "metadata": {},
   "outputs": [
    {
     "data": {
      "text/plain": [
       "[5, 10, 10]"
      ]
     },
     "execution_count": 7,
     "metadata": {},
     "output_type": "execute_result"
    }
   ],
   "source": [
    "pencilD = {\"pencil_id\": range(1, 6) \\\n",
    "           , \"brand\": \"Crayola Dixon BIC Crayola Crayola\".split()}\n",
    "xrefD = {\"xref_id\": range(1, 11), \"xref_test_id\": range(1, 11) \\\n",
    "         , \"xref_pencil_id\": [1, 2, 3, 4, 5, 3, 2, 3, 2, 1]}\n",
    "testD = {\"test_id\": range(1, 11) \\\n",
    "         , \"condition\": \"new dull ok ok new dull ok dull ok ok\".split()}\n",
    "pencilR, xrefR, testR = [pd.DataFrame(xD) for xD in (pencilD, xrefD, testD)]\n",
    "list(map(len, (pencilR, xrefR, testR)))"
   ]
  },
  {
   "cell_type": "code",
   "execution_count": 9,
   "id": "c0fc4e16-0886-4b2e-86c2-862c72401946",
   "metadata": {},
   "outputs": [],
   "source": [
    "for xR, tn in zip((pencilR, xrefR, testR), \"pencil xref test\".split()):\n",
    "    xR.to_sql(tn, conn)"
   ]
  },
  {
   "cell_type": "code",
   "execution_count": 21,
   "id": "f8331b18-4f6b-4918-bd8a-208213dfe2d8",
   "metadata": {},
   "outputs": [
    {
     "data": {
      "text/html": [
       "<div class=\"highlight\"><pre><span></span><span class=\"c1\">-- look at how one brand is doing</span>\n",
       "<span class=\"k\">with</span><span class=\"w\"> </span><span class=\"n\">branded</span><span class=\"w\"> </span><span class=\"k\">as</span><span class=\"w\"> </span><span class=\"p\">(</span>\n",
       "<span class=\"w\">    </span><span class=\"k\">select</span><span class=\"w\"> </span><span class=\"n\">pencil_id</span>\n",
       "<span class=\"w\">    </span><span class=\"k\">from</span><span class=\"w\"> </span><span class=\"n\">pencil</span>\n",
       "<span class=\"w\">    </span><span class=\"k\">where</span><span class=\"w\"> </span><span class=\"n\">brand</span><span class=\"w\"> </span><span class=\"o\">=</span><span class=\"w\"> </span><span class=\"s1\">&#39;{brand}&#39;</span><span class=\"p\">)</span>\n",
       "<span class=\"w\">    </span><span class=\"p\">,</span><span class=\"w\"> </span><span class=\"k\">cross</span><span class=\"w\"> </span><span class=\"k\">as</span><span class=\"w\"> </span><span class=\"p\">(</span>\n",
       "<span class=\"w\">    </span><span class=\"c1\">-- this will cause multiple matches per pencil. usually unwanted. </span>\n",
       "<span class=\"w\">    </span><span class=\"k\">select</span><span class=\"w\"> </span><span class=\"n\">branded</span><span class=\"p\">.</span><span class=\"n\">pencil_id</span><span class=\"p\">,</span><span class=\"w\"> </span><span class=\"n\">xref</span><span class=\"p\">.</span><span class=\"n\">xref_test_id</span>\n",
       "<span class=\"w\">    </span><span class=\"k\">from</span><span class=\"w\"> </span><span class=\"n\">branded</span>\n",
       "<span class=\"w\">    </span><span class=\"k\">inner</span><span class=\"w\"> </span><span class=\"k\">join</span><span class=\"w\"> </span><span class=\"n\">xref</span>\n",
       "<span class=\"w\">        </span><span class=\"k\">on</span><span class=\"w\"> </span><span class=\"n\">xref</span><span class=\"p\">.</span><span class=\"n\">xref_pencil_id</span><span class=\"w\"> </span><span class=\"o\">=</span><span class=\"w\"> </span><span class=\"n\">branded</span><span class=\"p\">.</span><span class=\"n\">pencil_id</span><span class=\"p\">)</span>\n",
       "<span class=\"w\">    </span><span class=\"p\">,</span><span class=\"w\"> </span><span class=\"n\">brandtest</span><span class=\"w\"> </span><span class=\"k\">as</span><span class=\"w\"> </span><span class=\"p\">(</span>\n",
       "<span class=\"w\">    </span><span class=\"k\">select</span><span class=\"w\"> </span><span class=\"k\">cross</span><span class=\"p\">.</span><span class=\"n\">pencil_id</span><span class=\"p\">,</span><span class=\"w\"> </span><span class=\"n\">test</span><span class=\"p\">.</span><span class=\"n\">test_id</span><span class=\"p\">,</span><span class=\"w\"> </span><span class=\"n\">test</span><span class=\"p\">.</span><span class=\"n\">condition</span>\n",
       "<span class=\"w\">    </span><span class=\"k\">from</span><span class=\"w\"> </span><span class=\"k\">cross</span>\n",
       "<span class=\"w\">    </span><span class=\"k\">inner</span><span class=\"w\"> </span><span class=\"k\">join</span><span class=\"w\"> </span><span class=\"n\">test</span>\n",
       "<span class=\"w\">        </span><span class=\"c1\">-- this will make a mess</span>\n",
       "<span class=\"w\">        </span><span class=\"k\">on</span><span class=\"w\"> </span><span class=\"k\">cross</span><span class=\"p\">.</span><span class=\"n\">xref_test_id</span><span class=\"w\"> </span><span class=\"o\">=</span><span class=\"w\"> </span><span class=\"k\">cross</span><span class=\"p\">.</span><span class=\"n\">xref_test_id</span><span class=\"p\">)</span>\n",
       "\n",
       "<span class=\"w\">    </span><span class=\"p\">,</span><span class=\"w\"> </span><span class=\"n\">checker</span><span class=\"w\"> </span><span class=\"k\">as</span><span class=\"w\"> </span><span class=\"p\">(</span>\n",
       "<span class=\"w\">    </span><span class=\"k\">select</span><span class=\"w\"> </span><span class=\"s1\">&#39;0 pencils&#39;</span><span class=\"w\"> </span><span class=\"k\">as</span><span class=\"w\"> </span><span class=\"n\">cten</span><span class=\"p\">,</span><span class=\"w\"> </span><span class=\"k\">count</span><span class=\"w\"> </span><span class=\"p\">(</span><span class=\"o\">*</span><span class=\"p\">)</span><span class=\"w\"> </span><span class=\"k\">as</span><span class=\"w\"> </span><span class=\"n\">n</span><span class=\"w\"> </span><span class=\"k\">from</span><span class=\"w\"> </span><span class=\"n\">pencil</span><span class=\"w\"> </span><span class=\"k\">union</span><span class=\"w\"> </span><span class=\"k\">all</span>\n",
       "<span class=\"w\">    </span><span class=\"k\">select</span><span class=\"w\"> </span><span class=\"s1\">&#39;1 branded&#39;</span><span class=\"w\"> </span><span class=\"k\">as</span><span class=\"w\"> </span><span class=\"n\">cten</span><span class=\"p\">,</span><span class=\"w\"> </span><span class=\"k\">count</span><span class=\"w\"> </span><span class=\"p\">(</span><span class=\"o\">*</span><span class=\"p\">)</span><span class=\"w\"> </span><span class=\"k\">as</span><span class=\"w\"> </span><span class=\"n\">n</span><span class=\"w\"> </span><span class=\"k\">from</span><span class=\"w\"> </span><span class=\"n\">branded</span><span class=\"w\"> </span><span class=\"k\">union</span><span class=\"w\"> </span><span class=\"k\">all</span>\n",
       "<span class=\"w\">    </span><span class=\"k\">select</span><span class=\"w\"> </span><span class=\"s1\">&#39;2 matched to xref&#39;</span><span class=\"w\"> </span><span class=\"k\">as</span><span class=\"w\"> </span><span class=\"n\">cten</span><span class=\"p\">,</span><span class=\"w\"> </span><span class=\"k\">count</span><span class=\"w\"> </span><span class=\"p\">(</span><span class=\"o\">*</span><span class=\"p\">)</span><span class=\"w\"> </span><span class=\"k\">as</span><span class=\"w\"> </span><span class=\"n\">n</span><span class=\"w\"> </span><span class=\"k\">from</span><span class=\"w\"> </span><span class=\"k\">cross</span><span class=\"w\"> </span><span class=\"k\">union</span><span class=\"w\"> </span><span class=\"k\">all</span>\n",
       "<span class=\"w\">    </span><span class=\"k\">select</span><span class=\"w\"> </span><span class=\"s1\">&#39;3 matched to tests&#39;</span><span class=\"w\"> </span><span class=\"k\">as</span><span class=\"w\"> </span><span class=\"n\">cten</span><span class=\"p\">,</span><span class=\"w\"> </span><span class=\"k\">count</span><span class=\"p\">(</span><span class=\"o\">*</span><span class=\"p\">)</span><span class=\"w\"> </span><span class=\"k\">as</span><span class=\"w\"> </span><span class=\"n\">n</span><span class=\"w\"> </span><span class=\"k\">from</span><span class=\"w\"> </span><span class=\"n\">brandtest</span><span class=\"p\">)</span>\n",
       "<span class=\"w\">    </span><span class=\"p\">,</span><span class=\"w\"> </span><span class=\"n\">getter</span><span class=\"w\"> </span><span class=\"k\">as</span><span class=\"w\"> </span><span class=\"p\">(</span><span class=\"k\">select</span><span class=\"w\"> </span><span class=\"o\">*</span><span class=\"w\"> </span><span class=\"k\">from</span><span class=\"w\"> </span><span class=\"n\">brandtest</span><span class=\"p\">)</span>\n",
       "\n",
       "<span class=\"k\">select</span><span class=\"w\"> </span><span class=\"o\">*</span><span class=\"w\"> </span><span class=\"k\">from</span><span class=\"w\"> </span><span class=\"err\">{</span><span class=\"k\">final</span><span class=\"err\">}</span>\n",
       "</pre></div>\n"
      ],
      "text/plain": [
       "<IPython.core.display.HTML object>"
      ]
     },
     "metadata": {},
     "output_type": "display_data"
    }
   ],
   "source": [
    "templateS = open(\"badJoin.sql\").read()\n",
    "display(HTML(data=highlight(templateS, SqlLexer(), HtmlFormatter())))"
   ]
  },
  {
   "cell_type": "code",
   "execution_count": 23,
   "id": "2c449fe8-01b2-49f7-8746-28763323fc36",
   "metadata": {},
   "outputs": [
    {
     "data": {
      "text/html": [
       "<div>\n",
       "<style scoped>\n",
       "    .dataframe tbody tr th:only-of-type {\n",
       "        vertical-align: middle;\n",
       "    }\n",
       "\n",
       "    .dataframe tbody tr th {\n",
       "        vertical-align: top;\n",
       "    }\n",
       "\n",
       "    .dataframe thead th {\n",
       "        text-align: right;\n",
       "    }\n",
       "</style>\n",
       "<table border=\"1\" class=\"dataframe\">\n",
       "  <thead>\n",
       "    <tr style=\"text-align: right;\">\n",
       "      <th></th>\n",
       "      <th>cten</th>\n",
       "      <th>n</th>\n",
       "    </tr>\n",
       "  </thead>\n",
       "  <tbody>\n",
       "    <tr>\n",
       "      <th>0</th>\n",
       "      <td>0 pencils</td>\n",
       "      <td>5</td>\n",
       "    </tr>\n",
       "    <tr>\n",
       "      <th>1</th>\n",
       "      <td>1 branded</td>\n",
       "      <td>3</td>\n",
       "    </tr>\n",
       "    <tr>\n",
       "      <th>2</th>\n",
       "      <td>2 matched to xref</td>\n",
       "      <td>4</td>\n",
       "    </tr>\n",
       "    <tr>\n",
       "      <th>3</th>\n",
       "      <td>3 matched to tests</td>\n",
       "      <td>40</td>\n",
       "    </tr>\n",
       "  </tbody>\n",
       "</table>\n",
       "</div>"
      ],
      "text/plain": [
       "                 cten   n\n",
       "0           0 pencils   5\n",
       "1           1 branded   3\n",
       "2   2 matched to xref   4\n",
       "3  3 matched to tests  40"
      ]
     },
     "execution_count": 23,
     "metadata": {},
     "output_type": "execute_result"
    }
   ],
   "source": [
    "pd.read_sql(templateS.format(brand=\"Crayola\", final=\"checker\"), conn) \\\n",
    "    .sort_values(\"cten\")"
   ]
  },
  {
   "cell_type": "code",
   "execution_count": null,
   "id": "d0c083e0-020c-4320-95f0-b6ee8f87f015",
   "metadata": {},
   "outputs": [],
   "source": []
  }
 ],
 "metadata": {
  "kernelspec": {
   "display_name": "Python 3 (ipykernel)",
   "language": "python",
   "name": "python3"
  },
  "language_info": {
   "codemirror_mode": {
    "name": "ipython",
    "version": 3
   },
   "file_extension": ".py",
   "mimetype": "text/x-python",
   "name": "python",
   "nbconvert_exporter": "python",
   "pygments_lexer": "ipython3",
   "version": "3.11.5"
  }
 },
 "nbformat": 4,
 "nbformat_minor": 5
}
