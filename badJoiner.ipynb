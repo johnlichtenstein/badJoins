{
 "cells": [
  {
   "cell_type": "markdown",
   "id": "b915b8db-f378-4ddb-bdcf-4593b284a789",
   "metadata": {},
   "source": [
    "<a name=\"top\"></a>\n",
    "## Finding Bad Joins \n",
    "jcl 2023-12-17\n",
    "\n",
    "It's a fair assumption that a first draft of any sql script will contain bad joins resulting from misunderstanding the effective grain of tables or paste error typos. So it's worthwhile developing a system to catch those before flooding your network with data till you crash your notebook with a memory error. Here we show an example of typical errors, and how we code to catch them with minimal trouble. <p>\n",
    "- [populating sqlite3](#pop)\n",
    "- [bad joins](#badj)\n",
    "- [bad report](#badr)\n",
    "- [fixed join](#fixed)"
   ]
  },
  {
   "cell_type": "code",
   "execution_count": 1,
   "id": "ac04606f-c395-44ca-bf60-369b6e191423",
   "metadata": {
    "jupyter": {
     "source_hidden": true
    },
    "tags": []
   },
   "outputs": [],
   "source": [
    "import pandas as pd\n",
    "import sqlite3\n",
    "from pygments import highlight\n",
    "from pygments.lexers import SqlLexer\n",
    "from pygments.formatters import HtmlFormatter\n",
    "from IPython.core.display import HTML"
   ]
  },
  {
   "cell_type": "code",
   "execution_count": 2,
   "id": "8010954e-2120-410e-8e47-32dabe646ccd",
   "metadata": {
    "tags": []
   },
   "outputs": [],
   "source": [
    "conn = sqlite3.connect(\"badJoin.db\")"
   ]
  },
  {
   "cell_type": "markdown",
   "id": "f65a94ee-bc56-4adc-8bd3-3024fdb62430",
   "metadata": {},
   "source": [
    "<a name=\"pop\"></a>\n",
    "### Populating SQLITE3 \n",
    "Here we have three tables \n",
    "- pencil holds the brand information for our inventory of 6 pencils. keyed by pencil_id\n",
    "- test stores the condition observed. keyed by test_id\n",
    "- xref stores the pencil_id and test_id for each test<p>\n",
    "[top](#top)"
   ]
  },
  {
   "cell_type": "code",
   "execution_count": 9,
   "id": "e790ec84-3996-4324-885b-522fc8cbca4c",
   "metadata": {
    "tags": []
   },
   "outputs": [
    {
     "data": {
      "text/plain": [
       "[5, 10, 10]"
      ]
     },
     "execution_count": 9,
     "metadata": {},
     "output_type": "execute_result"
    }
   ],
   "source": [
    "pencilD = {\"pencil_id\": range(1, 6) \\\n",
    "           , \"brand\": \"Crayola Dixon BIC Crayola Crayola\".split()}\n",
    "xrefD = {\"xref_id\": range(1, 11), \"xref_test_id\": range(1, 11) \\\n",
    "         , \"xref_pencil_id\": [1, 2, 3, 4, 5, 3, 2, 3, 2, 1]}\n",
    "testD = {\"test_id\": range(1, 11) \\\n",
    "         , \"condition\": \"new dull ok ok new dull ok dull ok ok\".split()}\n",
    "pencilR, xrefR, testR = [pd.DataFrame(xD) for xD in (pencilD, xrefD, testD)]\n",
    "list(map(len, (pencilR, xrefR, testR)))"
   ]
  },
  {
   "cell_type": "code",
   "execution_count": 4,
   "id": "c0fc4e16-0886-4b2e-86c2-862c72401946",
   "metadata": {},
   "outputs": [],
   "source": [
    "for xR, tn in zip((pencilR, xrefR, testR), \"pencil xref test\".split()):\n",
    "    xR.to_sql(tn, conn)"
   ]
  },
  {
   "cell_type": "markdown",
   "id": "cb360f27-8689-4b1f-8f7a-cda799833c70",
   "metadata": {},
   "source": [
    "<a name=\"badj\"></a>\n",
    "### Bad Joins\n",
    "Here we'll try to build a repor that shows the condition of the tests for Crayola branded pencils only. There are bad joins here. Joining the pencil to the xref table will cause multiple matches, which might be ok, but might be a surprise. Joining the cross cte to the test table by a just wrong on condition will cause an outer join. The checker cte illustrates the situation. If these were large tables, the unexpected flood of data could be costly.<p>\n",
    "By selecting the checker cte for {final}, we can have a cell that shows us the situation. <p>\n",
    "[top](#top)"
   ]
  },
  {
   "cell_type": "code",
   "execution_count": 3,
   "id": "f8331b18-4f6b-4918-bd8a-208213dfe2d8",
   "metadata": {
    "tags": []
   },
   "outputs": [
    {
     "data": {
      "text/html": [
       "<div class=\"highlight\"><pre><span></span><span class=\"c1\">-- look at how one brand is doing</span>\n",
       "<span class=\"k\">with</span><span class=\"w\"> </span><span class=\"n\">branded</span><span class=\"w\"> </span><span class=\"k\">as</span><span class=\"w\"> </span><span class=\"p\">(</span>\n",
       "<span class=\"w\">    </span><span class=\"k\">select</span><span class=\"w\"> </span><span class=\"n\">pencil_id</span>\n",
       "<span class=\"w\">    </span><span class=\"k\">from</span><span class=\"w\"> </span><span class=\"n\">pencil</span>\n",
       "<span class=\"w\">    </span><span class=\"k\">where</span><span class=\"w\"> </span><span class=\"n\">brand</span><span class=\"w\"> </span><span class=\"o\">=</span><span class=\"w\"> </span><span class=\"s1\">&#39;{brand}&#39;</span><span class=\"p\">)</span>\n",
       "<span class=\"w\">    </span><span class=\"p\">,</span><span class=\"w\"> </span><span class=\"n\">crossr</span><span class=\"w\"> </span><span class=\"k\">as</span><span class=\"w\"> </span><span class=\"p\">(</span>\n",
       "<span class=\"w\">    </span><span class=\"c1\">-- this will cause multiple matches per pencil. usually unwanted. </span>\n",
       "<span class=\"w\">    </span><span class=\"k\">select</span><span class=\"w\"> </span><span class=\"n\">branded</span><span class=\"p\">.</span><span class=\"n\">pencil_id</span><span class=\"p\">,</span><span class=\"w\"> </span><span class=\"n\">xref</span><span class=\"p\">.</span><span class=\"n\">xref_test_id</span>\n",
       "<span class=\"w\">    </span><span class=\"k\">from</span><span class=\"w\"> </span><span class=\"n\">branded</span>\n",
       "<span class=\"w\">    </span><span class=\"k\">inner</span><span class=\"w\"> </span><span class=\"k\">join</span><span class=\"w\"> </span><span class=\"n\">xref</span>\n",
       "<span class=\"w\">        </span><span class=\"k\">on</span><span class=\"w\"> </span><span class=\"n\">xref</span><span class=\"p\">.</span><span class=\"n\">xref_pencil_id</span><span class=\"w\"> </span><span class=\"o\">=</span><span class=\"w\"> </span><span class=\"n\">branded</span><span class=\"p\">.</span><span class=\"n\">pencil_id</span><span class=\"p\">)</span>\n",
       "<span class=\"w\">    </span><span class=\"p\">,</span><span class=\"w\"> </span><span class=\"n\">brandtest</span><span class=\"w\"> </span><span class=\"k\">as</span><span class=\"w\"> </span><span class=\"p\">(</span>\n",
       "<span class=\"w\">    </span><span class=\"k\">select</span><span class=\"w\"> </span><span class=\"n\">crossr</span><span class=\"p\">.</span><span class=\"n\">pencil_id</span><span class=\"p\">,</span><span class=\"w\"> </span><span class=\"n\">test</span><span class=\"p\">.</span><span class=\"n\">test_id</span><span class=\"p\">,</span><span class=\"w\"> </span><span class=\"n\">test</span><span class=\"p\">.</span><span class=\"n\">condition</span>\n",
       "<span class=\"w\">    </span><span class=\"k\">from</span><span class=\"w\"> </span><span class=\"n\">crossr</span>\n",
       "<span class=\"w\">    </span><span class=\"k\">inner</span><span class=\"w\"> </span><span class=\"k\">join</span><span class=\"w\"> </span><span class=\"n\">test</span>\n",
       "<span class=\"w\">        </span><span class=\"c1\">-- this will make a mess</span>\n",
       "<span class=\"w\">        </span><span class=\"k\">on</span><span class=\"w\"> </span><span class=\"n\">crossr</span><span class=\"p\">.</span><span class=\"n\">xref_test_id</span><span class=\"w\"> </span><span class=\"o\">=</span><span class=\"w\"> </span><span class=\"n\">crossr</span><span class=\"p\">.</span><span class=\"n\">xref_test_id</span><span class=\"p\">)</span>\n",
       "\n",
       "<span class=\"w\">    </span><span class=\"p\">,</span><span class=\"w\"> </span><span class=\"n\">checker</span><span class=\"w\"> </span><span class=\"k\">as</span><span class=\"w\"> </span><span class=\"p\">(</span>\n",
       "<span class=\"w\">    </span><span class=\"k\">select</span><span class=\"w\"> </span><span class=\"s1\">&#39;0 pencils&#39;</span><span class=\"w\"> </span><span class=\"k\">as</span><span class=\"w\"> </span><span class=\"n\">cten</span><span class=\"p\">,</span><span class=\"w\"> </span><span class=\"k\">count</span><span class=\"w\"> </span><span class=\"p\">(</span><span class=\"o\">*</span><span class=\"p\">)</span><span class=\"w\"> </span><span class=\"k\">as</span><span class=\"w\"> </span><span class=\"n\">n</span><span class=\"w\"> </span><span class=\"k\">from</span><span class=\"w\"> </span><span class=\"n\">pencil</span><span class=\"w\"> </span><span class=\"k\">union</span><span class=\"w\"> </span><span class=\"k\">all</span>\n",
       "<span class=\"w\">    </span><span class=\"k\">select</span><span class=\"w\"> </span><span class=\"s1\">&#39;1 branded&#39;</span><span class=\"w\"> </span><span class=\"k\">as</span><span class=\"w\"> </span><span class=\"n\">cten</span><span class=\"p\">,</span><span class=\"w\"> </span><span class=\"k\">count</span><span class=\"w\"> </span><span class=\"p\">(</span><span class=\"o\">*</span><span class=\"p\">)</span><span class=\"w\"> </span><span class=\"k\">as</span><span class=\"w\"> </span><span class=\"n\">n</span><span class=\"w\"> </span><span class=\"k\">from</span><span class=\"w\"> </span><span class=\"n\">branded</span><span class=\"w\"> </span><span class=\"k\">union</span><span class=\"w\"> </span><span class=\"k\">all</span>\n",
       "<span class=\"w\">    </span><span class=\"k\">select</span><span class=\"w\"> </span><span class=\"s1\">&#39;2 matched to xref&#39;</span><span class=\"w\"> </span><span class=\"k\">as</span><span class=\"w\"> </span><span class=\"n\">cten</span><span class=\"p\">,</span><span class=\"w\"> </span><span class=\"k\">count</span><span class=\"w\"> </span><span class=\"p\">(</span><span class=\"o\">*</span><span class=\"p\">)</span><span class=\"w\"> </span><span class=\"k\">as</span><span class=\"w\"> </span><span class=\"n\">n</span><span class=\"w\"> </span><span class=\"k\">from</span><span class=\"w\"> </span><span class=\"n\">crossr</span><span class=\"w\"> </span><span class=\"k\">union</span><span class=\"w\"> </span><span class=\"k\">all</span>\n",
       "<span class=\"w\">    </span><span class=\"k\">select</span><span class=\"w\"> </span><span class=\"s1\">&#39;3 matched to tests&#39;</span><span class=\"w\"> </span><span class=\"k\">as</span><span class=\"w\"> </span><span class=\"n\">cten</span><span class=\"p\">,</span><span class=\"w\"> </span><span class=\"k\">count</span><span class=\"p\">(</span><span class=\"o\">*</span><span class=\"p\">)</span><span class=\"w\"> </span><span class=\"k\">as</span><span class=\"w\"> </span><span class=\"n\">n</span><span class=\"w\"> </span><span class=\"k\">from</span><span class=\"w\"> </span><span class=\"n\">brandtest</span><span class=\"p\">)</span>\n",
       "<span class=\"w\">    </span><span class=\"p\">,</span><span class=\"w\"> </span><span class=\"n\">getter</span><span class=\"w\"> </span><span class=\"k\">as</span><span class=\"w\"> </span><span class=\"p\">(</span><span class=\"k\">select</span><span class=\"w\"> </span><span class=\"o\">*</span><span class=\"w\"> </span><span class=\"k\">from</span><span class=\"w\"> </span><span class=\"n\">brandtest</span><span class=\"p\">)</span>\n",
       "\n",
       "<span class=\"k\">select</span><span class=\"w\"> </span><span class=\"o\">*</span><span class=\"w\"> </span><span class=\"k\">from</span><span class=\"w\"> </span><span class=\"err\">{</span><span class=\"k\">final</span><span class=\"err\">}</span>\n",
       "</pre></div>\n"
      ],
      "text/plain": [
       "<IPython.core.display.HTML object>"
      ]
     },
     "metadata": {},
     "output_type": "display_data"
    }
   ],
   "source": [
    "templateS = open(\"badJoin.sql\").read()\n",
    "display(HTML(data=highlight(templateS, SqlLexer(), HtmlFormatter())))"
   ]
  },
  {
   "cell_type": "markdown",
   "id": "e37b764c-b552-4dc8-b394-5f0454bf663f",
   "metadata": {},
   "source": [
    "<a name=\"badr\"></a>\n",
    "### Bad Report\n",
    "First we notice there is one more match to xref than Crayola branded pencils. Second, there is an insane number of tests, because of the simply faulty \n",
    "- on crossr.xref_test_id = crossr.xref_test_id. <p>\n",
    "[top](#top)"
   ]
  },
  {
   "cell_type": "code",
   "execution_count": 4,
   "id": "2c449fe8-01b2-49f7-8746-28763323fc36",
   "metadata": {
    "tags": []
   },
   "outputs": [
    {
     "data": {
      "text/html": [
       "<div>\n",
       "<style scoped>\n",
       "    .dataframe tbody tr th:only-of-type {\n",
       "        vertical-align: middle;\n",
       "    }\n",
       "\n",
       "    .dataframe tbody tr th {\n",
       "        vertical-align: top;\n",
       "    }\n",
       "\n",
       "    .dataframe thead th {\n",
       "        text-align: right;\n",
       "    }\n",
       "</style>\n",
       "<table border=\"1\" class=\"dataframe\">\n",
       "  <thead>\n",
       "    <tr style=\"text-align: right;\">\n",
       "      <th></th>\n",
       "      <th>cten</th>\n",
       "      <th>n</th>\n",
       "    </tr>\n",
       "  </thead>\n",
       "  <tbody>\n",
       "    <tr>\n",
       "      <th>0</th>\n",
       "      <td>0 pencils</td>\n",
       "      <td>5</td>\n",
       "    </tr>\n",
       "    <tr>\n",
       "      <th>1</th>\n",
       "      <td>1 branded</td>\n",
       "      <td>3</td>\n",
       "    </tr>\n",
       "    <tr>\n",
       "      <th>2</th>\n",
       "      <td>2 matched to xref</td>\n",
       "      <td>4</td>\n",
       "    </tr>\n",
       "    <tr>\n",
       "      <th>3</th>\n",
       "      <td>3 matched to tests</td>\n",
       "      <td>40</td>\n",
       "    </tr>\n",
       "  </tbody>\n",
       "</table>\n",
       "</div>"
      ],
      "text/plain": [
       "                 cten   n\n",
       "0           0 pencils   5\n",
       "1           1 branded   3\n",
       "2   2 matched to xref   4\n",
       "3  3 matched to tests  40"
      ]
     },
     "execution_count": 4,
     "metadata": {},
     "output_type": "execute_result"
    }
   ],
   "source": [
    "pd.read_sql(templateS.format(brand=\"Crayola\", final=\"checker\"), conn) \\\n",
    "    .sort_values(\"cten\")"
   ]
  },
  {
   "cell_type": "markdown",
   "id": "851242e0-9287-4a7c-b286-55383799182f",
   "metadata": {},
   "source": [
    "<a name=\"fixed\"></a>\n",
    "### Fixed Code\n",
    "Looking at only the last test for each pencil will indicate better what the inventory currently looks like, and provide fewer matches. <p>\n",
    "[top](#top)"
   ]
  },
  {
   "cell_type": "code",
   "execution_count": 5,
   "id": "7151d623-5e0f-4045-bd79-050d2586f038",
   "metadata": {
    "tags": []
   },
   "outputs": [
    {
     "data": {
      "text/html": [
       "<div class=\"highlight\"><pre><span></span><span class=\"c1\">-- look at how one brand is doing</span>\n",
       "<span class=\"k\">with</span><span class=\"w\"> </span><span class=\"n\">branded</span><span class=\"w\"> </span><span class=\"k\">as</span><span class=\"w\"> </span><span class=\"p\">(</span>\n",
       "<span class=\"w\">    </span><span class=\"k\">select</span><span class=\"w\"> </span><span class=\"n\">pencil_id</span>\n",
       "<span class=\"w\">    </span><span class=\"k\">from</span><span class=\"w\"> </span><span class=\"n\">pencil</span>\n",
       "<span class=\"w\">    </span><span class=\"k\">where</span><span class=\"w\"> </span><span class=\"n\">brand</span><span class=\"w\"> </span><span class=\"o\">=</span><span class=\"w\"> </span><span class=\"s1\">&#39;{brand}&#39;</span><span class=\"p\">)</span>\n",
       "<span class=\"w\">    </span><span class=\"p\">,</span><span class=\"w\"> </span><span class=\"n\">crossr</span><span class=\"w\"> </span><span class=\"k\">as</span><span class=\"w\"> </span><span class=\"p\">(</span>\n",
       "<span class=\"w\">    </span><span class=\"c1\">-- here we will get just the last test</span>\n",
       "<span class=\"w\">    </span><span class=\"k\">select</span><span class=\"w\"> </span><span class=\"n\">branded</span><span class=\"p\">.</span><span class=\"n\">pencil_id</span><span class=\"p\">,</span><span class=\"w\"> </span><span class=\"k\">max</span><span class=\"p\">(</span><span class=\"n\">xref</span><span class=\"p\">.</span><span class=\"n\">xref_test_id</span><span class=\"p\">)</span><span class=\"w\"> </span><span class=\"k\">as</span><span class=\"w\"> </span><span class=\"n\">recent_test_id</span>\n",
       "<span class=\"w\">    </span><span class=\"k\">from</span><span class=\"w\"> </span><span class=\"n\">branded</span>\n",
       "<span class=\"w\">    </span><span class=\"k\">inner</span><span class=\"w\"> </span><span class=\"k\">join</span><span class=\"w\"> </span><span class=\"n\">xref</span>\n",
       "<span class=\"w\">        </span><span class=\"k\">on</span><span class=\"w\"> </span><span class=\"n\">xref</span><span class=\"p\">.</span><span class=\"n\">xref_pencil_id</span><span class=\"w\"> </span><span class=\"o\">=</span><span class=\"w\"> </span><span class=\"n\">branded</span><span class=\"p\">.</span><span class=\"n\">pencil_id</span>\n",
       "<span class=\"w\">    </span><span class=\"k\">group</span><span class=\"w\"> </span><span class=\"k\">by</span><span class=\"w\"> </span><span class=\"mi\">1</span><span class=\"p\">)</span>\n",
       "<span class=\"w\">    </span><span class=\"p\">,</span><span class=\"w\"> </span><span class=\"n\">brandtest</span><span class=\"w\"> </span><span class=\"k\">as</span><span class=\"w\"> </span><span class=\"p\">(</span>\n",
       "<span class=\"w\">    </span><span class=\"k\">select</span><span class=\"w\"> </span><span class=\"n\">crossr</span><span class=\"p\">.</span><span class=\"n\">pencil_id</span><span class=\"p\">,</span><span class=\"w\"> </span><span class=\"n\">test</span><span class=\"p\">.</span><span class=\"n\">test_id</span><span class=\"p\">,</span><span class=\"w\"> </span><span class=\"n\">test</span><span class=\"p\">.</span><span class=\"n\">condition</span>\n",
       "<span class=\"w\">    </span><span class=\"k\">from</span><span class=\"w\"> </span><span class=\"n\">crossr</span>\n",
       "<span class=\"w\">    </span><span class=\"k\">inner</span><span class=\"w\"> </span><span class=\"k\">join</span><span class=\"w\"> </span><span class=\"n\">test</span>\n",
       "<span class=\"w\">        </span><span class=\"c1\">-- with proper on </span>\n",
       "<span class=\"w\">        </span><span class=\"k\">on</span><span class=\"w\"> </span><span class=\"n\">crossr</span><span class=\"p\">.</span><span class=\"n\">recent_test_id</span><span class=\"w\"> </span><span class=\"o\">=</span><span class=\"w\"> </span><span class=\"n\">test</span><span class=\"p\">.</span><span class=\"n\">test_id</span><span class=\"p\">)</span>\n",
       "\n",
       "<span class=\"w\">    </span><span class=\"p\">,</span><span class=\"w\"> </span><span class=\"n\">checker</span><span class=\"w\"> </span><span class=\"k\">as</span><span class=\"w\"> </span><span class=\"p\">(</span>\n",
       "<span class=\"w\">    </span><span class=\"k\">select</span><span class=\"w\"> </span><span class=\"s1\">&#39;0 pencils&#39;</span><span class=\"w\"> </span><span class=\"k\">as</span><span class=\"w\"> </span><span class=\"n\">cten</span><span class=\"p\">,</span><span class=\"w\"> </span><span class=\"k\">count</span><span class=\"w\"> </span><span class=\"p\">(</span><span class=\"o\">*</span><span class=\"p\">)</span><span class=\"w\"> </span><span class=\"k\">as</span><span class=\"w\"> </span><span class=\"n\">n</span><span class=\"w\"> </span><span class=\"k\">from</span><span class=\"w\"> </span><span class=\"n\">pencil</span><span class=\"w\"> </span><span class=\"k\">union</span><span class=\"w\"> </span><span class=\"k\">all</span>\n",
       "<span class=\"w\">    </span><span class=\"k\">select</span><span class=\"w\"> </span><span class=\"s1\">&#39;1 branded&#39;</span><span class=\"w\"> </span><span class=\"k\">as</span><span class=\"w\"> </span><span class=\"n\">cten</span><span class=\"p\">,</span><span class=\"w\"> </span><span class=\"k\">count</span><span class=\"w\"> </span><span class=\"p\">(</span><span class=\"o\">*</span><span class=\"p\">)</span><span class=\"w\"> </span><span class=\"k\">as</span><span class=\"w\"> </span><span class=\"n\">n</span><span class=\"w\"> </span><span class=\"k\">from</span><span class=\"w\"> </span><span class=\"n\">branded</span><span class=\"w\"> </span><span class=\"k\">union</span><span class=\"w\"> </span><span class=\"k\">all</span>\n",
       "<span class=\"w\">    </span><span class=\"k\">select</span><span class=\"w\"> </span><span class=\"s1\">&#39;2 matched to xref&#39;</span><span class=\"w\"> </span><span class=\"k\">as</span><span class=\"w\"> </span><span class=\"n\">cten</span><span class=\"p\">,</span><span class=\"w\"> </span><span class=\"k\">count</span><span class=\"w\"> </span><span class=\"p\">(</span><span class=\"o\">*</span><span class=\"p\">)</span><span class=\"w\"> </span><span class=\"k\">as</span><span class=\"w\"> </span><span class=\"n\">n</span><span class=\"w\"> </span><span class=\"k\">from</span><span class=\"w\"> </span><span class=\"n\">crossr</span><span class=\"w\"> </span><span class=\"k\">union</span><span class=\"w\"> </span><span class=\"k\">all</span>\n",
       "<span class=\"w\">    </span><span class=\"k\">select</span><span class=\"w\"> </span><span class=\"s1\">&#39;3 matched to tests&#39;</span><span class=\"w\"> </span><span class=\"k\">as</span><span class=\"w\"> </span><span class=\"n\">cten</span><span class=\"p\">,</span><span class=\"w\"> </span><span class=\"k\">count</span><span class=\"p\">(</span><span class=\"o\">*</span><span class=\"p\">)</span><span class=\"w\"> </span><span class=\"k\">as</span><span class=\"w\"> </span><span class=\"n\">n</span><span class=\"w\"> </span><span class=\"k\">from</span><span class=\"w\"> </span><span class=\"n\">brandtest</span><span class=\"p\">)</span>\n",
       "<span class=\"w\">    </span><span class=\"p\">,</span><span class=\"w\"> </span><span class=\"n\">getter</span><span class=\"w\"> </span><span class=\"k\">as</span><span class=\"w\"> </span><span class=\"p\">(</span><span class=\"k\">select</span><span class=\"w\"> </span><span class=\"o\">*</span><span class=\"w\"> </span><span class=\"k\">from</span><span class=\"w\"> </span><span class=\"n\">brandtest</span><span class=\"p\">)</span>\n",
       "\n",
       "<span class=\"k\">select</span><span class=\"w\"> </span><span class=\"o\">*</span><span class=\"w\"> </span><span class=\"k\">from</span><span class=\"w\"> </span><span class=\"err\">{</span><span class=\"k\">final</span><span class=\"err\">}</span>\n",
       "</pre></div>\n"
      ],
      "text/plain": [
       "<IPython.core.display.HTML object>"
      ]
     },
     "metadata": {},
     "output_type": "display_data"
    }
   ],
   "source": [
    "templateS = open(\"badJoinFixed.sql\").read()\n",
    "display(HTML(data=highlight(templateS, SqlLexer(), HtmlFormatter())))"
   ]
  },
  {
   "cell_type": "markdown",
   "id": "f72c29d2-cb54-461d-934d-b55ddeabfa91",
   "metadata": {},
   "source": [
    "<a name=\"goodr\"></a>\n",
    "### Good Report\n",
    "The number of tests matches the number of branded pencils. \n",
    "[top](#top)"
   ]
  },
  {
   "cell_type": "code",
   "execution_count": 6,
   "id": "f8fc50e1-5ed3-4faf-b2db-fc5dd085c319",
   "metadata": {
    "tags": []
   },
   "outputs": [
    {
     "data": {
      "text/html": [
       "<div>\n",
       "<style scoped>\n",
       "    .dataframe tbody tr th:only-of-type {\n",
       "        vertical-align: middle;\n",
       "    }\n",
       "\n",
       "    .dataframe tbody tr th {\n",
       "        vertical-align: top;\n",
       "    }\n",
       "\n",
       "    .dataframe thead th {\n",
       "        text-align: right;\n",
       "    }\n",
       "</style>\n",
       "<table border=\"1\" class=\"dataframe\">\n",
       "  <thead>\n",
       "    <tr style=\"text-align: right;\">\n",
       "      <th></th>\n",
       "      <th>cten</th>\n",
       "      <th>n</th>\n",
       "    </tr>\n",
       "  </thead>\n",
       "  <tbody>\n",
       "    <tr>\n",
       "      <th>0</th>\n",
       "      <td>0 pencils</td>\n",
       "      <td>5</td>\n",
       "    </tr>\n",
       "    <tr>\n",
       "      <th>1</th>\n",
       "      <td>1 branded</td>\n",
       "      <td>3</td>\n",
       "    </tr>\n",
       "    <tr>\n",
       "      <th>2</th>\n",
       "      <td>2 matched to xref</td>\n",
       "      <td>3</td>\n",
       "    </tr>\n",
       "    <tr>\n",
       "      <th>3</th>\n",
       "      <td>3 matched to tests</td>\n",
       "      <td>3</td>\n",
       "    </tr>\n",
       "  </tbody>\n",
       "</table>\n",
       "</div>"
      ],
      "text/plain": [
       "                 cten  n\n",
       "0           0 pencils  5\n",
       "1           1 branded  3\n",
       "2   2 matched to xref  3\n",
       "3  3 matched to tests  3"
      ]
     },
     "execution_count": 6,
     "metadata": {},
     "output_type": "execute_result"
    }
   ],
   "source": [
    "pd.read_sql(templateS.format(brand=\"Crayola\", final=\"checker\"), conn) \\\n",
    "    .sort_values(\"cten\")"
   ]
  },
  {
   "cell_type": "markdown",
   "id": "6114323d-9069-4fe4-b269-91a5c415cfa6",
   "metadata": {},
   "source": [
    "### Getting Data\n",
    "Now we are confident we are not going to flood ourselves with outer joins, we can change final from checker to getter, grab our dataframe and run a report. "
   ]
  },
  {
   "cell_type": "code",
   "execution_count": 7,
   "id": "455fb4f2-708f-4d05-9eec-6fc2f367be28",
   "metadata": {
    "tags": []
   },
   "outputs": [
    {
     "data": {
      "text/plain": [
       "new    1\n",
       "ok     2\n",
       "Name: condition, dtype: int64"
      ]
     },
     "execution_count": 7,
     "metadata": {},
     "output_type": "execute_result"
    }
   ],
   "source": [
    "crayolaR = pd.read_sql(templateS.format(brand=\"Crayola\", final=\"getter\"), conn)\n",
    "crayolaR[\"condition\"].value_counts().sort_index()"
   ]
  },
  {
   "cell_type": "code",
   "execution_count": null,
   "id": "59b22a24-556a-4007-ac47-9282a8b8e2ee",
   "metadata": {},
   "outputs": [],
   "source": []
  }
 ],
 "metadata": {
  "kernelspec": {
   "display_name": "Python 3 (ipykernel)",
   "language": "python",
   "name": "python3"
  },
  "language_info": {
   "codemirror_mode": {
    "name": "ipython",
    "version": 3
   },
   "file_extension": ".py",
   "mimetype": "text/x-python",
   "name": "python",
   "nbconvert_exporter": "python",
   "pygments_lexer": "ipython3",
   "version": "3.8.13"
  }
 },
 "nbformat": 4,
 "nbformat_minor": 5
}
