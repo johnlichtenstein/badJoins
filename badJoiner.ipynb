{
 "cells": [
  {
   "cell_type": "markdown",
   "id": "b915b8db-f378-4ddb-bdcf-4593b284a789",
   "metadata": {},
   "source": [
    "<a name=\"top\"></a>\n",
    "## Finding Bad Joins \n",
    "jcl 2023-12-17\n",
    "\n",
    "It's a fair assumption that a first draft of any sql script will contain bad joins resulting from misunderstanding the effective grain of tables or paste error typos. So it's worthwhile developing a system to catch those before flooding your network with data till you crash your notebook with a memory error. Here we show an example of typical errors, and how we code to catch them with minimal trouble. <p>\n",
    "- [populating sqlite3](#pop)\n",
    "- [bad joins](#badj)\n",
    "- [bad report](#badr)\n",
    "- [fixed join](#fixed)"
   ]
  },
  {
   "cell_type": "code",
   "execution_count": 1,
   "id": "ac04606f-c395-44ca-bf60-369b6e191423",
   "metadata": {},
   "outputs": [],
   "source": [
    "import pandas as pd\n",
    "import sqlite3\n",
    "from pygments import highlight\n",
    "from pygments.lexers import SqlLexer\n",
    "from pygments.formatters import HtmlFormatter\n",
    "from IPython.core.display import HTML"
   ]
  },
  {
   "cell_type": "code",
   "execution_count": 2,
   "id": "8010954e-2120-410e-8e47-32dabe646ccd",
   "metadata": {},
   "outputs": [],
   "source": [
    "conn = sqlite3.connect(\"badJoin.db\")"
   ]
  },
  {
   "cell_type": "markdown",
   "id": "f65a94ee-bc56-4adc-8bd3-3024fdb62430",
   "metadata": {},
   "source": [
    "<a name=\"pop\"></a>\n",
    "### Populating SQLITE3 \n",
    "[top](#top)"
   ]
  },
  {
   "cell_type": "code",
   "execution_count": 3,
   "id": "e790ec84-3996-4324-885b-522fc8cbca4c",
   "metadata": {},
   "outputs": [
    {
     "data": {
      "text/plain": [
       "[5, 10, 10]"
      ]
     },
     "execution_count": 3,
     "metadata": {},
     "output_type": "execute_result"
    }
   ],
   "source": [
    "pencilD = {\"pencil_id\": range(1, 6) \\\n",
    "           , \"brand\": \"Crayola Dixon BIC Crayola Crayola\".split()}\n",
    "xrefD = {\"xref_id\": range(1, 11), \"xref_test_id\": range(1, 11) \\\n",
    "         , \"xref_pencil_id\": [1, 2, 3, 4, 5, 3, 2, 3, 2, 1]}\n",
    "testD = {\"test_id\": range(1, 11) \\\n",
    "         , \"condition\": \"new dull ok ok new dull ok dull ok ok\".split()}\n",
    "pencilR, xrefR, testR = [pd.DataFrame(xD) for xD in (pencilD, xrefD, testD)]\n",
    "list(map(len, (pencilR, xrefR, testR)))"
   ]
  },
  {
   "cell_type": "code",
   "execution_count": 4,
   "id": "c0fc4e16-0886-4b2e-86c2-862c72401946",
   "metadata": {},
   "outputs": [
    {
     "ename": "ValueError",
     "evalue": "Table 'pencil' already exists.",
     "output_type": "error",
     "traceback": [
      "\u001b[0;31m---------------------------------------------------------------------------\u001b[0m",
      "\u001b[0;31mValueError\u001b[0m                                Traceback (most recent call last)",
      "Cell \u001b[0;32mIn[4], line 2\u001b[0m\n\u001b[1;32m      1\u001b[0m \u001b[38;5;28;01mfor\u001b[39;00m xR, tn \u001b[38;5;129;01min\u001b[39;00m \u001b[38;5;28mzip\u001b[39m((pencilR, xrefR, testR), \u001b[38;5;124m\"\u001b[39m\u001b[38;5;124mpencil xref test\u001b[39m\u001b[38;5;124m\"\u001b[39m\u001b[38;5;241m.\u001b[39msplit()):\n\u001b[0;32m----> 2\u001b[0m     \u001b[43mxR\u001b[49m\u001b[38;5;241;43m.\u001b[39;49m\u001b[43mto_sql\u001b[49m\u001b[43m(\u001b[49m\u001b[43mtn\u001b[49m\u001b[43m,\u001b[49m\u001b[43m \u001b[49m\u001b[43mconn\u001b[49m\u001b[43m)\u001b[49m\n",
      "File \u001b[0;32m~/miniconda3/envs/p3114/lib/python3.11/site-packages/pandas/util/_decorators.py:333\u001b[0m, in \u001b[0;36mdeprecate_nonkeyword_arguments.<locals>.decorate.<locals>.wrapper\u001b[0;34m(*args, **kwargs)\u001b[0m\n\u001b[1;32m    327\u001b[0m \u001b[38;5;28;01mif\u001b[39;00m \u001b[38;5;28mlen\u001b[39m(args) \u001b[38;5;241m>\u001b[39m num_allow_args:\n\u001b[1;32m    328\u001b[0m     warnings\u001b[38;5;241m.\u001b[39mwarn(\n\u001b[1;32m    329\u001b[0m         msg\u001b[38;5;241m.\u001b[39mformat(arguments\u001b[38;5;241m=\u001b[39m_format_argument_list(allow_args)),\n\u001b[1;32m    330\u001b[0m         \u001b[38;5;167;01mFutureWarning\u001b[39;00m,\n\u001b[1;32m    331\u001b[0m         stacklevel\u001b[38;5;241m=\u001b[39mfind_stack_level(),\n\u001b[1;32m    332\u001b[0m     )\n\u001b[0;32m--> 333\u001b[0m \u001b[38;5;28;01mreturn\u001b[39;00m \u001b[43mfunc\u001b[49m\u001b[43m(\u001b[49m\u001b[38;5;241;43m*\u001b[39;49m\u001b[43margs\u001b[49m\u001b[43m,\u001b[49m\u001b[43m \u001b[49m\u001b[38;5;241;43m*\u001b[39;49m\u001b[38;5;241;43m*\u001b[39;49m\u001b[43mkwargs\u001b[49m\u001b[43m)\u001b[49m\n",
      "File \u001b[0;32m~/miniconda3/envs/p3114/lib/python3.11/site-packages/pandas/core/generic.py:3008\u001b[0m, in \u001b[0;36mNDFrame.to_sql\u001b[0;34m(self, name, con, schema, if_exists, index, index_label, chunksize, dtype, method)\u001b[0m\n\u001b[1;32m   2813\u001b[0m \u001b[38;5;250m\u001b[39m\u001b[38;5;124;03m\"\"\"\u001b[39;00m\n\u001b[1;32m   2814\u001b[0m \u001b[38;5;124;03mWrite records stored in a DataFrame to a SQL database.\u001b[39;00m\n\u001b[1;32m   2815\u001b[0m \n\u001b[0;32m   (...)\u001b[0m\n\u001b[1;32m   3004\u001b[0m \u001b[38;5;124;03m[(1,), (None,), (2,)]\u001b[39;00m\n\u001b[1;32m   3005\u001b[0m \u001b[38;5;124;03m\"\"\"\u001b[39;00m  \u001b[38;5;66;03m# noqa: E501\u001b[39;00m\n\u001b[1;32m   3006\u001b[0m \u001b[38;5;28;01mfrom\u001b[39;00m \u001b[38;5;21;01mpandas\u001b[39;00m\u001b[38;5;21;01m.\u001b[39;00m\u001b[38;5;21;01mio\u001b[39;00m \u001b[38;5;28;01mimport\u001b[39;00m sql\n\u001b[0;32m-> 3008\u001b[0m \u001b[38;5;28;01mreturn\u001b[39;00m \u001b[43msql\u001b[49m\u001b[38;5;241;43m.\u001b[39;49m\u001b[43mto_sql\u001b[49m\u001b[43m(\u001b[49m\n\u001b[1;32m   3009\u001b[0m \u001b[43m    \u001b[49m\u001b[38;5;28;43mself\u001b[39;49m\u001b[43m,\u001b[49m\n\u001b[1;32m   3010\u001b[0m \u001b[43m    \u001b[49m\u001b[43mname\u001b[49m\u001b[43m,\u001b[49m\n\u001b[1;32m   3011\u001b[0m \u001b[43m    \u001b[49m\u001b[43mcon\u001b[49m\u001b[43m,\u001b[49m\n\u001b[1;32m   3012\u001b[0m \u001b[43m    \u001b[49m\u001b[43mschema\u001b[49m\u001b[38;5;241;43m=\u001b[39;49m\u001b[43mschema\u001b[49m\u001b[43m,\u001b[49m\n\u001b[1;32m   3013\u001b[0m \u001b[43m    \u001b[49m\u001b[43mif_exists\u001b[49m\u001b[38;5;241;43m=\u001b[39;49m\u001b[43mif_exists\u001b[49m\u001b[43m,\u001b[49m\n\u001b[1;32m   3014\u001b[0m \u001b[43m    \u001b[49m\u001b[43mindex\u001b[49m\u001b[38;5;241;43m=\u001b[39;49m\u001b[43mindex\u001b[49m\u001b[43m,\u001b[49m\n\u001b[1;32m   3015\u001b[0m \u001b[43m    \u001b[49m\u001b[43mindex_label\u001b[49m\u001b[38;5;241;43m=\u001b[39;49m\u001b[43mindex_label\u001b[49m\u001b[43m,\u001b[49m\n\u001b[1;32m   3016\u001b[0m \u001b[43m    \u001b[49m\u001b[43mchunksize\u001b[49m\u001b[38;5;241;43m=\u001b[39;49m\u001b[43mchunksize\u001b[49m\u001b[43m,\u001b[49m\n\u001b[1;32m   3017\u001b[0m \u001b[43m    \u001b[49m\u001b[43mdtype\u001b[49m\u001b[38;5;241;43m=\u001b[39;49m\u001b[43mdtype\u001b[49m\u001b[43m,\u001b[49m\n\u001b[1;32m   3018\u001b[0m \u001b[43m    \u001b[49m\u001b[43mmethod\u001b[49m\u001b[38;5;241;43m=\u001b[39;49m\u001b[43mmethod\u001b[49m\u001b[43m,\u001b[49m\n\u001b[1;32m   3019\u001b[0m \u001b[43m\u001b[49m\u001b[43m)\u001b[49m\n",
      "File \u001b[0;32m~/miniconda3/envs/p3114/lib/python3.11/site-packages/pandas/io/sql.py:788\u001b[0m, in \u001b[0;36mto_sql\u001b[0;34m(frame, name, con, schema, if_exists, index, index_label, chunksize, dtype, method, engine, **engine_kwargs)\u001b[0m\n\u001b[1;32m    783\u001b[0m     \u001b[38;5;28;01mraise\u001b[39;00m \u001b[38;5;167;01mNotImplementedError\u001b[39;00m(\n\u001b[1;32m    784\u001b[0m         \u001b[38;5;124m\"\u001b[39m\u001b[38;5;124m'\u001b[39m\u001b[38;5;124mframe\u001b[39m\u001b[38;5;124m'\u001b[39m\u001b[38;5;124m argument should be either a Series or a DataFrame\u001b[39m\u001b[38;5;124m\"\u001b[39m\n\u001b[1;32m    785\u001b[0m     )\n\u001b[1;32m    787\u001b[0m \u001b[38;5;28;01mwith\u001b[39;00m pandasSQL_builder(con, schema\u001b[38;5;241m=\u001b[39mschema, need_transaction\u001b[38;5;241m=\u001b[39m\u001b[38;5;28;01mTrue\u001b[39;00m) \u001b[38;5;28;01mas\u001b[39;00m pandas_sql:\n\u001b[0;32m--> 788\u001b[0m     \u001b[38;5;28;01mreturn\u001b[39;00m \u001b[43mpandas_sql\u001b[49m\u001b[38;5;241;43m.\u001b[39;49m\u001b[43mto_sql\u001b[49m\u001b[43m(\u001b[49m\n\u001b[1;32m    789\u001b[0m \u001b[43m        \u001b[49m\u001b[43mframe\u001b[49m\u001b[43m,\u001b[49m\n\u001b[1;32m    790\u001b[0m \u001b[43m        \u001b[49m\u001b[43mname\u001b[49m\u001b[43m,\u001b[49m\n\u001b[1;32m    791\u001b[0m \u001b[43m        \u001b[49m\u001b[43mif_exists\u001b[49m\u001b[38;5;241;43m=\u001b[39;49m\u001b[43mif_exists\u001b[49m\u001b[43m,\u001b[49m\n\u001b[1;32m    792\u001b[0m \u001b[43m        \u001b[49m\u001b[43mindex\u001b[49m\u001b[38;5;241;43m=\u001b[39;49m\u001b[43mindex\u001b[49m\u001b[43m,\u001b[49m\n\u001b[1;32m    793\u001b[0m \u001b[43m        \u001b[49m\u001b[43mindex_label\u001b[49m\u001b[38;5;241;43m=\u001b[39;49m\u001b[43mindex_label\u001b[49m\u001b[43m,\u001b[49m\n\u001b[1;32m    794\u001b[0m \u001b[43m        \u001b[49m\u001b[43mschema\u001b[49m\u001b[38;5;241;43m=\u001b[39;49m\u001b[43mschema\u001b[49m\u001b[43m,\u001b[49m\n\u001b[1;32m    795\u001b[0m \u001b[43m        \u001b[49m\u001b[43mchunksize\u001b[49m\u001b[38;5;241;43m=\u001b[39;49m\u001b[43mchunksize\u001b[49m\u001b[43m,\u001b[49m\n\u001b[1;32m    796\u001b[0m \u001b[43m        \u001b[49m\u001b[43mdtype\u001b[49m\u001b[38;5;241;43m=\u001b[39;49m\u001b[43mdtype\u001b[49m\u001b[43m,\u001b[49m\n\u001b[1;32m    797\u001b[0m \u001b[43m        \u001b[49m\u001b[43mmethod\u001b[49m\u001b[38;5;241;43m=\u001b[39;49m\u001b[43mmethod\u001b[49m\u001b[43m,\u001b[49m\n\u001b[1;32m    798\u001b[0m \u001b[43m        \u001b[49m\u001b[43mengine\u001b[49m\u001b[38;5;241;43m=\u001b[39;49m\u001b[43mengine\u001b[49m\u001b[43m,\u001b[49m\n\u001b[1;32m    799\u001b[0m \u001b[43m        \u001b[49m\u001b[38;5;241;43m*\u001b[39;49m\u001b[38;5;241;43m*\u001b[39;49m\u001b[43mengine_kwargs\u001b[49m\u001b[43m,\u001b[49m\n\u001b[1;32m    800\u001b[0m \u001b[43m    \u001b[49m\u001b[43m)\u001b[49m\n",
      "File \u001b[0;32m~/miniconda3/envs/p3114/lib/python3.11/site-packages/pandas/io/sql.py:2440\u001b[0m, in \u001b[0;36mSQLiteDatabase.to_sql\u001b[0;34m(self, frame, name, if_exists, index, index_label, schema, chunksize, dtype, method, engine, **engine_kwargs)\u001b[0m\n\u001b[1;32m   2429\u001b[0m             \u001b[38;5;28;01mraise\u001b[39;00m \u001b[38;5;167;01mValueError\u001b[39;00m(\u001b[38;5;124mf\u001b[39m\u001b[38;5;124m\"\u001b[39m\u001b[38;5;132;01m{\u001b[39;00mcol\u001b[38;5;132;01m}\u001b[39;00m\u001b[38;5;124m (\u001b[39m\u001b[38;5;132;01m{\u001b[39;00mmy_type\u001b[38;5;132;01m}\u001b[39;00m\u001b[38;5;124m) not a string\u001b[39m\u001b[38;5;124m\"\u001b[39m)\n\u001b[1;32m   2431\u001b[0m table \u001b[38;5;241m=\u001b[39m SQLiteTable(\n\u001b[1;32m   2432\u001b[0m     name,\n\u001b[1;32m   2433\u001b[0m     \u001b[38;5;28mself\u001b[39m,\n\u001b[0;32m   (...)\u001b[0m\n\u001b[1;32m   2438\u001b[0m     dtype\u001b[38;5;241m=\u001b[39mdtype,\n\u001b[1;32m   2439\u001b[0m )\n\u001b[0;32m-> 2440\u001b[0m \u001b[43mtable\u001b[49m\u001b[38;5;241;43m.\u001b[39;49m\u001b[43mcreate\u001b[49m\u001b[43m(\u001b[49m\u001b[43m)\u001b[49m\n\u001b[1;32m   2441\u001b[0m \u001b[38;5;28;01mreturn\u001b[39;00m table\u001b[38;5;241m.\u001b[39minsert(chunksize, method)\n",
      "File \u001b[0;32m~/miniconda3/envs/p3114/lib/python3.11/site-packages/pandas/io/sql.py:927\u001b[0m, in \u001b[0;36mSQLTable.create\u001b[0;34m(self)\u001b[0m\n\u001b[1;32m    925\u001b[0m \u001b[38;5;28;01mif\u001b[39;00m \u001b[38;5;28mself\u001b[39m\u001b[38;5;241m.\u001b[39mexists():\n\u001b[1;32m    926\u001b[0m     \u001b[38;5;28;01mif\u001b[39;00m \u001b[38;5;28mself\u001b[39m\u001b[38;5;241m.\u001b[39mif_exists \u001b[38;5;241m==\u001b[39m \u001b[38;5;124m\"\u001b[39m\u001b[38;5;124mfail\u001b[39m\u001b[38;5;124m\"\u001b[39m:\n\u001b[0;32m--> 927\u001b[0m         \u001b[38;5;28;01mraise\u001b[39;00m \u001b[38;5;167;01mValueError\u001b[39;00m(\u001b[38;5;124mf\u001b[39m\u001b[38;5;124m\"\u001b[39m\u001b[38;5;124mTable \u001b[39m\u001b[38;5;124m'\u001b[39m\u001b[38;5;132;01m{\u001b[39;00m\u001b[38;5;28mself\u001b[39m\u001b[38;5;241m.\u001b[39mname\u001b[38;5;132;01m}\u001b[39;00m\u001b[38;5;124m'\u001b[39m\u001b[38;5;124m already exists.\u001b[39m\u001b[38;5;124m\"\u001b[39m)\n\u001b[1;32m    928\u001b[0m     \u001b[38;5;28;01mif\u001b[39;00m \u001b[38;5;28mself\u001b[39m\u001b[38;5;241m.\u001b[39mif_exists \u001b[38;5;241m==\u001b[39m \u001b[38;5;124m\"\u001b[39m\u001b[38;5;124mreplace\u001b[39m\u001b[38;5;124m\"\u001b[39m:\n\u001b[1;32m    929\u001b[0m         \u001b[38;5;28mself\u001b[39m\u001b[38;5;241m.\u001b[39mpd_sql\u001b[38;5;241m.\u001b[39mdrop_table(\u001b[38;5;28mself\u001b[39m\u001b[38;5;241m.\u001b[39mname, \u001b[38;5;28mself\u001b[39m\u001b[38;5;241m.\u001b[39mschema)\n",
      "\u001b[0;31mValueError\u001b[0m: Table 'pencil' already exists."
     ]
    }
   ],
   "source": [
    "for xR, tn in zip((pencilR, xrefR, testR), \"pencil xref test\".split()):\n",
    "    xR.to_sql(tn, conn)"
   ]
  },
  {
   "cell_type": "markdown",
   "id": "cb360f27-8689-4b1f-8f7a-cda799833c70",
   "metadata": {},
   "source": [
    "<a name=\"badj\"></a>\n",
    "### Bad Joins\n",
    "There are bad joins here. Joining the pencil to the xref table will cause multiple matches, which might be ok, but might be a surprise. Joining the cross cte to the test table by a just wrong on condition will cause an outer join. The checker cte illustrates the situation. By selecting the checker cte for {final}, we cna have a cell that shows us the situation.\n",
    "[top](#top)"
   ]
  },
  {
   "cell_type": "code",
   "execution_count": null,
   "id": "f8331b18-4f6b-4918-bd8a-208213dfe2d8",
   "metadata": {},
   "outputs": [],
   "source": [
    "templateS = open(\"badJoin.sql\").read()\n",
    "display(HTML(data=highlight(templateS, SqlLexer(), HtmlFormatter())))"
   ]
  },
  {
   "cell_type": "markdown",
   "id": "e37b764c-b552-4dc8-b394-5f0454bf663f",
   "metadata": {},
   "source": [
    "<a name=\"badr\"></a>\n",
    "### Bad Report\n",
    "First we notice there is one more match to xref than Crayola branded pencils. Second, there is an insane number of tests. \n",
    "[top](#top)"
   ]
  },
  {
   "cell_type": "code",
   "execution_count": null,
   "id": "2c449fe8-01b2-49f7-8746-28763323fc36",
   "metadata": {},
   "outputs": [],
   "source": [
    "pd.read_sql(templateS.format(brand=\"Crayola\", final=\"checker\"), conn) \\\n",
    "    .sort_values(\"cten\")"
   ]
  },
  {
   "cell_type": "markdown",
   "id": "851242e0-9287-4a7c-b286-55383799182f",
   "metadata": {},
   "source": [
    "<a name=\"fixed\"></a>\n",
    "### Fixed Code\n",
    "[top](#top)"
   ]
  },
  {
   "cell_type": "code",
   "execution_count": 5,
   "id": "7151d623-5e0f-4045-bd79-050d2586f038",
   "metadata": {},
   "outputs": [
    {
     "data": {
      "text/html": [
       "<div class=\"highlight\"><pre><span></span><span class=\"c1\">-- look at how one brand is doing</span>\n",
       "<span class=\"k\">with</span><span class=\"w\"> </span><span class=\"n\">branded</span><span class=\"w\"> </span><span class=\"k\">as</span><span class=\"w\"> </span><span class=\"p\">(</span>\n",
       "<span class=\"w\">    </span><span class=\"k\">select</span><span class=\"w\"> </span><span class=\"n\">pencil_id</span>\n",
       "<span class=\"w\">    </span><span class=\"k\">from</span><span class=\"w\"> </span><span class=\"n\">pencil</span>\n",
       "<span class=\"w\">    </span><span class=\"k\">where</span><span class=\"w\"> </span><span class=\"n\">brand</span><span class=\"w\"> </span><span class=\"o\">=</span><span class=\"w\"> </span><span class=\"s1\">&#39;{brand}&#39;</span><span class=\"p\">)</span>\n",
       "<span class=\"w\">    </span><span class=\"p\">,</span><span class=\"w\"> </span><span class=\"k\">cross</span><span class=\"w\"> </span><span class=\"k\">as</span><span class=\"w\"> </span><span class=\"p\">(</span>\n",
       "<span class=\"w\">    </span><span class=\"c1\">-- here we will get just the last test</span>\n",
       "<span class=\"w\">    </span><span class=\"k\">select</span><span class=\"w\"> </span><span class=\"n\">branded</span><span class=\"p\">.</span><span class=\"n\">pencil_id</span><span class=\"p\">,</span><span class=\"w\"> </span><span class=\"k\">max</span><span class=\"p\">(</span><span class=\"n\">xref</span><span class=\"p\">.</span><span class=\"n\">xref_test_id</span><span class=\"p\">)</span><span class=\"w\"> </span><span class=\"k\">as</span><span class=\"w\"> </span><span class=\"n\">recent_test_id</span>\n",
       "<span class=\"w\">    </span><span class=\"k\">from</span><span class=\"w\"> </span><span class=\"n\">branded</span>\n",
       "<span class=\"w\">    </span><span class=\"k\">inner</span><span class=\"w\"> </span><span class=\"k\">join</span><span class=\"w\"> </span><span class=\"n\">xref</span>\n",
       "<span class=\"w\">        </span><span class=\"k\">on</span><span class=\"w\"> </span><span class=\"n\">xref</span><span class=\"p\">.</span><span class=\"n\">xref_pencil_id</span><span class=\"w\"> </span><span class=\"o\">=</span><span class=\"w\"> </span><span class=\"n\">branded</span><span class=\"p\">.</span><span class=\"n\">pencil_id</span>\n",
       "<span class=\"w\">    </span><span class=\"k\">group</span><span class=\"w\"> </span><span class=\"k\">by</span><span class=\"w\"> </span><span class=\"mi\">1</span><span class=\"p\">)</span>\n",
       "<span class=\"w\">    </span><span class=\"p\">,</span><span class=\"w\"> </span><span class=\"n\">brandtest</span><span class=\"w\"> </span><span class=\"k\">as</span><span class=\"w\"> </span><span class=\"p\">(</span>\n",
       "<span class=\"w\">    </span><span class=\"k\">select</span><span class=\"w\"> </span><span class=\"k\">cross</span><span class=\"p\">.</span><span class=\"n\">pencil_id</span><span class=\"p\">,</span><span class=\"w\"> </span><span class=\"n\">test</span><span class=\"p\">.</span><span class=\"n\">test_id</span><span class=\"p\">,</span><span class=\"w\"> </span><span class=\"n\">test</span><span class=\"p\">.</span><span class=\"n\">condition</span>\n",
       "<span class=\"w\">    </span><span class=\"k\">from</span><span class=\"w\"> </span><span class=\"k\">cross</span>\n",
       "<span class=\"w\">    </span><span class=\"k\">inner</span><span class=\"w\"> </span><span class=\"k\">join</span><span class=\"w\"> </span><span class=\"n\">test</span>\n",
       "<span class=\"w\">        </span><span class=\"c1\">-- with proper on </span>\n",
       "<span class=\"w\">        </span><span class=\"k\">on</span><span class=\"w\"> </span><span class=\"k\">cross</span><span class=\"p\">.</span><span class=\"n\">recent_test_id</span><span class=\"w\"> </span><span class=\"o\">=</span><span class=\"w\"> </span><span class=\"n\">test</span><span class=\"p\">.</span><span class=\"n\">test_id</span><span class=\"p\">)</span>\n",
       "\n",
       "<span class=\"w\">    </span><span class=\"p\">,</span><span class=\"w\"> </span><span class=\"n\">checker</span><span class=\"w\"> </span><span class=\"k\">as</span><span class=\"w\"> </span><span class=\"p\">(</span>\n",
       "<span class=\"w\">    </span><span class=\"k\">select</span><span class=\"w\"> </span><span class=\"s1\">&#39;0 pencils&#39;</span><span class=\"w\"> </span><span class=\"k\">as</span><span class=\"w\"> </span><span class=\"n\">cten</span><span class=\"p\">,</span><span class=\"w\"> </span><span class=\"k\">count</span><span class=\"w\"> </span><span class=\"p\">(</span><span class=\"o\">*</span><span class=\"p\">)</span><span class=\"w\"> </span><span class=\"k\">as</span><span class=\"w\"> </span><span class=\"n\">n</span><span class=\"w\"> </span><span class=\"k\">from</span><span class=\"w\"> </span><span class=\"n\">pencil</span><span class=\"w\"> </span><span class=\"k\">union</span><span class=\"w\"> </span><span class=\"k\">all</span>\n",
       "<span class=\"w\">    </span><span class=\"k\">select</span><span class=\"w\"> </span><span class=\"s1\">&#39;1 branded&#39;</span><span class=\"w\"> </span><span class=\"k\">as</span><span class=\"w\"> </span><span class=\"n\">cten</span><span class=\"p\">,</span><span class=\"w\"> </span><span class=\"k\">count</span><span class=\"w\"> </span><span class=\"p\">(</span><span class=\"o\">*</span><span class=\"p\">)</span><span class=\"w\"> </span><span class=\"k\">as</span><span class=\"w\"> </span><span class=\"n\">n</span><span class=\"w\"> </span><span class=\"k\">from</span><span class=\"w\"> </span><span class=\"n\">branded</span><span class=\"w\"> </span><span class=\"k\">union</span><span class=\"w\"> </span><span class=\"k\">all</span>\n",
       "<span class=\"w\">    </span><span class=\"k\">select</span><span class=\"w\"> </span><span class=\"s1\">&#39;2 matched to xref&#39;</span><span class=\"w\"> </span><span class=\"k\">as</span><span class=\"w\"> </span><span class=\"n\">cten</span><span class=\"p\">,</span><span class=\"w\"> </span><span class=\"k\">count</span><span class=\"w\"> </span><span class=\"p\">(</span><span class=\"o\">*</span><span class=\"p\">)</span><span class=\"w\"> </span><span class=\"k\">as</span><span class=\"w\"> </span><span class=\"n\">n</span><span class=\"w\"> </span><span class=\"k\">from</span><span class=\"w\"> </span><span class=\"k\">cross</span><span class=\"w\"> </span><span class=\"k\">union</span><span class=\"w\"> </span><span class=\"k\">all</span>\n",
       "<span class=\"w\">    </span><span class=\"k\">select</span><span class=\"w\"> </span><span class=\"s1\">&#39;3 matched to tests&#39;</span><span class=\"w\"> </span><span class=\"k\">as</span><span class=\"w\"> </span><span class=\"n\">cten</span><span class=\"p\">,</span><span class=\"w\"> </span><span class=\"k\">count</span><span class=\"p\">(</span><span class=\"o\">*</span><span class=\"p\">)</span><span class=\"w\"> </span><span class=\"k\">as</span><span class=\"w\"> </span><span class=\"n\">n</span><span class=\"w\"> </span><span class=\"k\">from</span><span class=\"w\"> </span><span class=\"n\">brandtest</span><span class=\"p\">)</span>\n",
       "<span class=\"w\">    </span><span class=\"p\">,</span><span class=\"w\"> </span><span class=\"n\">getter</span><span class=\"w\"> </span><span class=\"k\">as</span><span class=\"w\"> </span><span class=\"p\">(</span><span class=\"k\">select</span><span class=\"w\"> </span><span class=\"o\">*</span><span class=\"w\"> </span><span class=\"k\">from</span><span class=\"w\"> </span><span class=\"n\">brandtest</span><span class=\"p\">)</span>\n",
       "\n",
       "<span class=\"k\">select</span><span class=\"w\"> </span><span class=\"o\">*</span><span class=\"w\"> </span><span class=\"k\">from</span><span class=\"w\"> </span><span class=\"err\">{</span><span class=\"k\">final</span><span class=\"err\">}</span>\n",
       "</pre></div>\n"
      ],
      "text/plain": [
       "<IPython.core.display.HTML object>"
      ]
     },
     "metadata": {},
     "output_type": "display_data"
    }
   ],
   "source": [
    "templateS = open(\"badJoinFixed.sql\").read()\n",
    "display(HTML(data=highlight(templateS, SqlLexer(), HtmlFormatter())))"
   ]
  },
  {
   "cell_type": "markdown",
   "id": "f72c29d2-cb54-461d-934d-b55ddeabfa91",
   "metadata": {},
   "source": [
    "<a name=\"goodr\"></a>\n",
    "### Good Report\n",
    "The number of tests matches the number of branded pencils. \n",
    "[top](#top)"
   ]
  },
  {
   "cell_type": "code",
   "execution_count": 6,
   "id": "f8fc50e1-5ed3-4faf-b2db-fc5dd085c319",
   "metadata": {},
   "outputs": [
    {
     "data": {
      "text/html": [
       "<div>\n",
       "<style scoped>\n",
       "    .dataframe tbody tr th:only-of-type {\n",
       "        vertical-align: middle;\n",
       "    }\n",
       "\n",
       "    .dataframe tbody tr th {\n",
       "        vertical-align: top;\n",
       "    }\n",
       "\n",
       "    .dataframe thead th {\n",
       "        text-align: right;\n",
       "    }\n",
       "</style>\n",
       "<table border=\"1\" class=\"dataframe\">\n",
       "  <thead>\n",
       "    <tr style=\"text-align: right;\">\n",
       "      <th></th>\n",
       "      <th>cten</th>\n",
       "      <th>n</th>\n",
       "    </tr>\n",
       "  </thead>\n",
       "  <tbody>\n",
       "    <tr>\n",
       "      <th>0</th>\n",
       "      <td>0 pencils</td>\n",
       "      <td>5</td>\n",
       "    </tr>\n",
       "    <tr>\n",
       "      <th>1</th>\n",
       "      <td>1 branded</td>\n",
       "      <td>3</td>\n",
       "    </tr>\n",
       "    <tr>\n",
       "      <th>2</th>\n",
       "      <td>2 matched to xref</td>\n",
       "      <td>3</td>\n",
       "    </tr>\n",
       "    <tr>\n",
       "      <th>3</th>\n",
       "      <td>3 matched to tests</td>\n",
       "      <td>3</td>\n",
       "    </tr>\n",
       "  </tbody>\n",
       "</table>\n",
       "</div>"
      ],
      "text/plain": [
       "                 cten  n\n",
       "0           0 pencils  5\n",
       "1           1 branded  3\n",
       "2   2 matched to xref  3\n",
       "3  3 matched to tests  3"
      ]
     },
     "execution_count": 6,
     "metadata": {},
     "output_type": "execute_result"
    }
   ],
   "source": [
    "pd.read_sql(templateS.format(brand=\"Crayola\", final=\"checker\"), conn) \\\n",
    "    .sort_values(\"cten\")"
   ]
  },
  {
   "cell_type": "markdown",
   "id": "6114323d-9069-4fe4-b269-91a5c415cfa6",
   "metadata": {},
   "source": [
    "### Getting Data\n",
    "Now we are confident we are not going to flood ourselves with outer joins, we can change final from checker to getter, grab our dataframe and run a report. "
   ]
  },
  {
   "cell_type": "code",
   "execution_count": 7,
   "id": "455fb4f2-708f-4d05-9eec-6fc2f367be28",
   "metadata": {},
   "outputs": [
    {
     "data": {
      "text/plain": [
       "condition\n",
       "new    1\n",
       "ok     2\n",
       "Name: count, dtype: int64"
      ]
     },
     "execution_count": 7,
     "metadata": {},
     "output_type": "execute_result"
    }
   ],
   "source": [
    "crayolaR = pd.read_sql(templateS.format(brand=\"Crayola\", final=\"getter\"), conn)\n",
    "crayolaR[\"condition\"].value_counts().sort_index()"
   ]
  },
  {
   "cell_type": "code",
   "execution_count": null,
   "id": "59b22a24-556a-4007-ac47-9282a8b8e2ee",
   "metadata": {},
   "outputs": [],
   "source": []
  }
 ],
 "metadata": {
  "kernelspec": {
   "display_name": "Python 3 (ipykernel)",
   "language": "python",
   "name": "python3"
  },
  "language_info": {
   "codemirror_mode": {
    "name": "ipython",
    "version": 3
   },
   "file_extension": ".py",
   "mimetype": "text/x-python",
   "name": "python",
   "nbconvert_exporter": "python",
   "pygments_lexer": "ipython3",
   "version": "3.11.4"
  }
 },
 "nbformat": 4,
 "nbformat_minor": 5
}
